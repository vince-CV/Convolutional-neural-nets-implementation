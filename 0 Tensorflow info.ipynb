{
 "cells": [
  {
   "cell_type": "markdown",
   "metadata": {},
   "source": [
    "## Computational Graphs"
   ]
  },
  {
   "cell_type": "markdown",
   "metadata": {},
   "source": [
    "#### Numpy"
   ]
  },
  {
   "cell_type": "code",
   "execution_count": 16,
   "metadata": {},
   "outputs": [],
   "source": [
    "import numpy as np\n",
    "import tensorflow as tf\n",
    "np.random.seed(0)\n",
    "\n",
    "N, D = 3, 4\n",
    "\n",
    "x = np.random.randn(N, D)\n",
    "y = np.random.randn(N, D)\n",
    "z = np.random.randn(N, D)\n",
    "\n",
    "a = x * y\n",
    "b = a + z\n",
    "c = np.sum(b)\n",
    "\n",
    "grad_c = 1.0\n",
    "grad_b = grad_c * np.ones((N, D))\n",
    "grad_a = grad_b.copy()\n",
    "grad_z = grad_b.copy()\n",
    "grad_x = grad_a * y\n",
    "grad_y = grad_a * x\n"
   ]
  },
  {
   "cell_type": "markdown",
   "metadata": {},
   "source": [
    "#### TensorFlow (CPU)"
   ]
  },
  {
   "cell_type": "code",
   "execution_count": 17,
   "metadata": {},
   "outputs": [],
   "source": [
    "N, D = 3, 4\n",
    "\n",
    "# Create forward computational graph\n",
    "with tf.device(\"/cpu:0\"): # Run in CPU\n",
    "    \n",
    "    x = tf.placeholder( tf.float32 )\n",
    "    y = tf.placeholder( tf.float32 )\n",
    "    z = tf.placeholder( tf.float32 )\n",
    "\n",
    "    a = x * y\n",
    "    b = a + z\n",
    "    c = tf.reduce_sum(b)\n",
    "\n",
    "# TensorFlow to compute gradients\n",
    "grad_x, grad_y, grad_z = tf.gradients(c, [x, y, z])\n",
    "\n",
    "with tf.Session() as sess:\n",
    "    \n",
    "    values = {\n",
    "        x: np.random.randn(N, D),\n",
    "        y: np.random.randn(N, D),\n",
    "        z: np.random.randn(N, D),\n",
    "    }\n",
    "    \n",
    "    out = sess.run([c, grad_x, grad_y, grad_z], feed_dict = values)\n",
    "    \n",
    "    c_val, grad_x_val, grad_y_val, grad_z_val = out"
   ]
  },
  {
   "cell_type": "markdown",
   "metadata": {},
   "source": [
    "#### TensorFlow (GPU)"
   ]
  },
  {
   "cell_type": "code",
   "execution_count": 18,
   "metadata": {},
   "outputs": [],
   "source": [
    "N, D = 3, 4\n",
    "\n",
    "# Create forward computational graph\n",
    "with tf.device(\"/gpu:0\"): # Run in CPU\n",
    "    \n",
    "    x = tf.placeholder( tf.float32 )\n",
    "    y = tf.placeholder( tf.float32 )\n",
    "    z = tf.placeholder( tf.float32 )\n",
    "\n",
    "    a = x * y\n",
    "    b = a + z\n",
    "    c = tf.reduce_sum(b)\n",
    "\n",
    "# TensorFlow to compute gradients\n",
    "grad_x, grad_y, grad_z = tf.gradients(c, [x, y, z])\n",
    "\n",
    "with tf.Session() as sess:\n",
    "    \n",
    "    values = {\n",
    "        x: np.random.randn(N, D),\n",
    "        y: np.random.randn(N, D),\n",
    "        z: np.random.randn(N, D),\n",
    "    }\n",
    "    \n",
    "    out = sess.run([c, grad_x, grad_y, grad_z], feed_dict = values)\n",
    "    \n",
    "    c_val, grad_x_val, grad_y_val, grad_z_val = out"
   ]
  },
  {
   "cell_type": "markdown",
   "metadata": {},
   "source": [
    "#### TensorFlow (Neural Network): Two-layer ReLU network on random data with L2 loss."
   ]
  },
  {
   "cell_type": "code",
   "execution_count": 19,
   "metadata": {},
   "outputs": [],
   "source": [
    "N, D, H = 64, 1000, 100\n",
    "\n",
    "x = tf.placeholder( tf.float32, shape = (N, D) )\n",
    "y = tf.placeholder( tf.float32, shape = (N, D) )\n",
    "w1 = tf.placeholder( tf.float32, shape = (D, H) )\n",
    "w2 = tf.placeholder( tf.float32, shape = (H, D) )\n",
    "\n",
    "h = tf.maximum(tf.matmul(x, w1), 0)\n",
    "y_pred = tf.matmul(h, w2)\n",
    "diff = y_pred - y\n",
    "loss = tf.reduce_mean(tf.reduce_sum(diff ** 2, axis = 1)) # L2 distance\n",
    "\n",
    "grad_w1, grad_w2 = tf.gradients(loss, [w1, w2])\n",
    "\n",
    "with tf.Session() as sess: # Build the graph\n",
    "    \n",
    "    values = {x: np.random.randn(N, D),\n",
    "              w1: np.random.randn(D, H),\n",
    "              w2: np.random.randn(H, D),\n",
    "              y: np.random.randn(N, D),}\n",
    "    \n",
    "    learning_rate = 1e-5\n",
    " \n",
    "    # Train the network: update weights using gradients\n",
    "    for t in range(50):\n",
    "        out = sess.run([loss, grad_w1, grad_w2], feed_dict = values)\n",
    "        loss_val, grad_w1_val, grad_w2_val = out\n",
    "        values[w1] -= learning_rate * grad_w1_val\n",
    "        values[w2] -= learning_rate * grad_w2_val"
   ]
  },
  {
   "cell_type": "markdown",
   "metadata": {},
   "source": [
    "Problem: copy weights between CPU/GPU each step!"
   ]
  },
  {
   "cell_type": "code",
   "execution_count": 20,
   "metadata": {},
   "outputs": [],
   "source": [
    "N, D, H = 64, 1000, 100\n",
    "\n",
    "x = tf.placeholder( tf.float32, shape = (N, D) )\n",
    "y = tf.placeholder( tf.float32, shape = (N, D) )\n",
    "# Change from placeholder to Variable (persists in the graph between calls)\n",
    "w1 = tf.Variable( tf.random_normal((D, H)) )\n",
    "w2 = tf.Variable( tf.random_normal((H, D)) )\n",
    "\n",
    "h = tf.maximum(tf.matmul(x, w1), 0)\n",
    "y_pred = tf.matmul(h, w2)\n",
    "diff = y_pred - y\n",
    "loss = tf.reduce_mean(tf.reduce_sum(diff ** 2, axis = 1)) \n",
    "\n",
    "grad_w1, grad_w2 = tf.gradients(loss, [w1, w2])\n",
    "\n",
    "# Add assign to update w1 and w2 as part of the graph\n",
    "learning_rate = 1e-5\n",
    "new_w1 = w1.assign(w1 - learning_rate * grad_w1)\n",
    "new_w2 = w2.assign(w2 - learning_rate * grad_w2)\n",
    "\n",
    "\n",
    "with tf.Session() as sess: \n",
    "    sess.run(tf.global_variables_initializer()) # Run graph once to initilize w1 and w2\n",
    "    values = {x: np.random.randn(N, D),\n",
    "              y: np.random.randn(N, D),}\n",
    "    \n",
    "    for t in range(50):\n",
    "        loss_val, = sess.run([loss], feed_dict = values)\n",
    "  \n",
    "        "
   ]
  },
  {
   "cell_type": "markdown",
   "metadata": {},
   "source": [
    "Problem: loss not going down! Assign calls not actually being executed."
   ]
  },
  {
   "cell_type": "code",
   "execution_count": 21,
   "metadata": {},
   "outputs": [],
   "source": [
    "N, D, H = 64, 1000, 100\n",
    "\n",
    "x = tf.placeholder( tf.float32, shape = (N, D) )\n",
    "y = tf.placeholder( tf.float32, shape = (N, D) )\n",
    "w1 = tf.Variable( tf.random_normal((D, H)) )\n",
    "w2 = tf.Variable( tf.random_normal((H, D)) )\n",
    "\n",
    "h = tf.maximum(tf.matmul(x, w1), 0)\n",
    "y_pred = tf.matmul(h, w2)\n",
    "diff = y_pred - y\n",
    "loss = tf.reduce_mean(tf.reduce_sum(diff ** 2, axis = 1)) \n",
    "\n",
    "grad_w1, grad_w2 = tf.gradients(loss, [w1, w2])\n",
    "\n",
    "learning_rate = 1e-5\n",
    "new_w1 = w1.assign(w1 - learning_rate * grad_w1)\n",
    "new_w2 = w2.assign(w2 - learning_rate * grad_w2)\n",
    "updates = tf.group(new_w1, new_w2) # Add dummpy graph node that depends on updates\n",
    "\n",
    "\n",
    "with tf.Session() as sess: \n",
    "    sess.run(tf.global_variables_initializer()) \n",
    "    values = {x: np.random.randn(N, D),\n",
    "              y: np.random.randn(N, D),}\n",
    "    \n",
    "    for t in range(50):\n",
    "        loss_val,_ = sess.run([loss, updates], feed_dict = values)\n",
    "  \n",
    "        "
   ]
  },
  {
   "cell_type": "markdown",
   "metadata": {},
   "source": [
    "#### TensorFlow (Neural Network): Optimization "
   ]
  },
  {
   "cell_type": "code",
   "execution_count": 22,
   "metadata": {},
   "outputs": [],
   "source": [
    "N, D, H = 64, 1000, 100\n",
    "\n",
    "x = tf.placeholder( tf.float32, shape = (N, D) )\n",
    "y = tf.placeholder( tf.float32, shape = (N, D) )\n",
    "w1 = tf.Variable( tf.random_normal((D, H)) )\n",
    "w2 = tf.Variable( tf.random_normal((H, D)) )\n",
    "\n",
    "h = tf.maximum(tf.matmul(x, w1), 0)\n",
    "y_pred = tf.matmul(h, w2)\n",
    "diff = y_pred - y\n",
    "loss = tf.reduce_mean(tf.reduce_sum(diff ** 2, axis = 1)) \n",
    "\n",
    "optimizer = tf.train.GradientDescentOptimizer(1e-5) # Use an optimizer to computer gradient and update weights\n",
    "updates = optimizer.minimize(loss)\n",
    "\n",
    "\n",
    "with tf.Session() as sess: \n",
    "    sess.run(tf.global_variables_initializer()) \n",
    "    values = {x: np.random.randn(N, D),\n",
    "              y: np.random.randn(N, D),}\n",
    "    \n",
    "    for t in range(50):\n",
    "        loss_val,_ = sess.run([loss, updates], feed_dict = values)\n",
    "  \n",
    "        "
   ]
  },
  {
   "cell_type": "markdown",
   "metadata": {},
   "source": [
    "#### TensorFlow (Neural Network): Loss "
   ]
  },
  {
   "cell_type": "code",
   "execution_count": 23,
   "metadata": {},
   "outputs": [],
   "source": [
    "N, D, H = 64, 1000, 100\n",
    "\n",
    "x = tf.placeholder( tf.float32, shape = (N, D) )\n",
    "y = tf.placeholder( tf.float32, shape = (N, D) )\n",
    "w1 = tf.Variable( tf.random_normal((D, H)) )\n",
    "w2 = tf.Variable( tf.random_normal((H, D)) )\n",
    "\n",
    "h = tf.maximum(tf.matmul(x, w1), 0)\n",
    "y_pred = tf.matmul(h, w2)\n",
    "diff = y_pred - y\n",
    "loss = tf.losses.mean_squared_error(y_pred, y) # Common predefined losses\n",
    "\n",
    "optimizer = tf.train.GradientDescentOptimizer(1e-5) \n",
    "updates = optimizer.minimize(loss)\n",
    "\n",
    "\n",
    "with tf.Session() as sess: \n",
    "    sess.run(tf.global_variables_initializer()) \n",
    "    values = {x: np.random.randn(N, D),\n",
    "              y: np.random.randn(N, D),}\n",
    "    \n",
    "    for t in range(50):\n",
    "        loss_val,_ = sess.run([loss, updates], feed_dict = values)\n",
    "  \n",
    "        "
   ]
  },
  {
   "cell_type": "markdown",
   "metadata": {},
   "source": [
    "#### TensorFlow (Neural Network): Layers"
   ]
  },
  {
   "cell_type": "code",
   "execution_count": 25,
   "metadata": {},
   "outputs": [],
   "source": [
    "N, D, H = 64, 1000, 100\n",
    "\n",
    "x = tf.placeholder( tf.float32, shape = (N, D) )\n",
    "y = tf.placeholder( tf.float32, shape = (N, D) )\n",
    "\n",
    "init = tf.contrib.layers.xavier_initializer() # Use xavier initializer\n",
    "\n",
    "# tf.layers automatically sets up weight and bias\n",
    "h= tf.layers.dense(inputs=x, units=H, activation=tf.nn.relu, kernel_initializer=init)\n",
    "y_pred= tf.layers.dense(inputs=h, units=D, kernel_initializer=init)\n",
    "\n",
    "loss = tf.losses.mean_squared_error(y_pred, y) \n",
    "\n",
    "optimizer = tf.train.GradientDescentOptimizer(1e-5) \n",
    "updates = optimizer.minimize(loss)\n",
    "\n",
    "\n",
    "with tf.Session() as sess: \n",
    "    sess.run(tf.global_variables_initializer()) \n",
    "    values = {x: np.random.randn(N, D),\n",
    "              y: np.random.randn(N, D),}\n",
    "    \n",
    "    for t in range(50):\n",
    "        loss_val,_ = sess.run([loss, updates], feed_dict = values)\n",
    "  \n",
    "        "
   ]
  },
  {
   "cell_type": "code",
   "execution_count": null,
   "metadata": {},
   "outputs": [],
   "source": []
  }
 ],
 "metadata": {
  "kernelspec": {
   "display_name": "Python 3",
   "language": "python",
   "name": "python3"
  },
  "language_info": {
   "codemirror_mode": {
    "name": "ipython",
    "version": 3
   },
   "file_extension": ".py",
   "mimetype": "text/x-python",
   "name": "python",
   "nbconvert_exporter": "python",
   "pygments_lexer": "ipython3",
   "version": "3.6.5"
  }
 },
 "nbformat": 4,
 "nbformat_minor": 2
}
