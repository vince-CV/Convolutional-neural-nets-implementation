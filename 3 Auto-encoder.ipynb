{
 "cells": [
  {
   "cell_type": "markdown",
   "metadata": {},
   "source": [
    "## Auto-Encoder"
   ]
  },
  {
   "cell_type": "code",
   "execution_count": 1,
   "metadata": {},
   "outputs": [],
   "source": [
    "import numpy as np\n",
    "import sklearn.preprocessing as prep\n",
    "import tensorflow as tf\n",
    "from tensorflow.examples.tutorials.mnist import input_data"
   ]
  },
  {
   "cell_type": "markdown",
   "metadata": {},
   "source": [
    "It is going to use the Xavier initialization ( mean=$0$, variance=$\\frac{2}{(n_{in})+(n_{out})}$ ), so that it will adjust the weights properly."
   ]
  },
  {
   "cell_type": "code",
   "execution_count": 13,
   "metadata": {},
   "outputs": [],
   "source": [
    "def xavier_init(inputs, outputs, constant=1):\n",
    "    low = - constant * np.sqrt(6/(inputs + outputs))\n",
    "    high = constant * np.sqrt(6/(inputs + outputs))\n",
    "    return tf.random_uniform((inputs, outputs), minval = low, maxval = high, dtype = tf.float32)"
   ]
  },
  {
   "cell_type": "markdown",
   "metadata": {},
   "source": [
    "Build a class of de-noise encoder. <br>\n",
    "1. n_input: number of input nodes<br>\n",
    "2. n_hidden: number of hidden nodes<br>\n",
    "3. transfer_function: activated function in hidden layer (softplus)<br>\n",
    "4. optimizer: (Adam optimization method)<br>\n",
    "5. scale: gaussian noise parameter, default=0.1<br>"
   ]
  },
  {
   "cell_type": "code",
   "execution_count": 20,
   "metadata": {},
   "outputs": [],
   "source": [
    "class NoiseAutoencoder(object):\n",
    "    \n",
    "    def __init__(self, n_inputs, n_hidden, transfer=tf.nn.softplus, optimizer=tf.train.AdamOptimizer(), scale=0.1):\n",
    "        self.n_inputs = n_inputs\n",
    "        self.n_hidden = n_hidden\n",
    "        self.transfer = transfer\n",
    "        self.scale = tf.placeholder(tf.float32)\n",
    "        self.training_scale = scale\n",
    "        network_weights = self._initialize_weights()\n",
    "        self.weights = network_weights\n",
    "        \n",
    "        # Network Structure\n",
    "        self.x = tf.placeholder(tf.float32, [None, self.n_inputs])\n",
    "        self.hidden = self.transfer(tf.add(tf.matmul(self.x+scale*tf.random_normal((n_inputs, )), self.weights['w1']), self.weights['b1']))\n",
    "        self.reconstruction = tf.add(tf.matmul(self.hidden, self.weights['w2']), self.weights['b2'])\n",
    "        \n",
    "        # Loss Function & Optimizer (Squared Error)\n",
    "        self.cost = 0.5 * tf.reduce_sum(tf.pow( tf.subtract(self.reconstruction, self.x), 2.0 ))\n",
    "        self.optimizer = optimizer.minimize(self.cost)\n",
    "        \n",
    "        init = tf.global_variables_initializer()\n",
    "        self.sess = tf.Session()\n",
    "        self.sess.run(init)\n",
    "        \n",
    "    def _initialize_weights(self):\n",
    "        all_weights = dict()\n",
    "        all_weights['w1'] = tf.Variable(xavier_init(self.n_inputs, self.n_hidden))\n",
    "        all_weights['b1'] = tf.Variable(tf.zeros([self.n_hidden], dtype=tf.float32))\n",
    "        all_weights['w2'] = tf.Variable(tf.zeros([self.n_hidden,self.n_inputs], dtype=tf.float32))\n",
    "        all_weights['b2'] = tf.Variable(tf.zeros([self.n_inputs], dtype=tf.float32))\n",
    "        return all_weights\n",
    "    \n",
    "    def partial_fit(self,X):\n",
    "        # Train with the batch of data, and return the current cost\n",
    "        cost, opt = self.sess.run((self.cost, self.optimizer), feed_dict = {self.x:X, self.scale: self.training_scale})\n",
    "        return cost\n",
    "    \n",
    "    def calc_total_cost(self,X):\n",
    "        # Calculate the cost when training is completed, for evaluation of the performance\n",
    "        return self.sess.run(self.cost, feed_dict = {self.x:X, self.scale: self.training_scale} )\n",
    "    \n",
    "    def transfer(self,X):\n",
    "        # Return the results of the hidden layer, high-order features of the data\n",
    "        return self.sess.run(self.hidden, feed_dict = {self.x:X, self.scale: self.training_scale} )\n",
    "    \n",
    "    def generate(self,hidden = None):\n",
    "        # Reconstruct the high-order features into original data\n",
    "        if hidden is None:\n",
    "            hidden = np.random.normal(size = self.weights['b1'])\n",
    "        return self.sess.run(self.reconstruction, feed_dict = {self.hidden: hidden})   \n",
    "    \n",
    "    def reconstruction(self,X):\n",
    "        # Input the original data, extract the high-order features and reconstruct it (Transfer + Generate)\n",
    "        return self.sess.run(self.reconstruction, feed_dict={self.x:X, self.scale: self.training_scale})\n",
    "    \n",
    "    def getWeights(self):\n",
    "        return self.sess.run(self.weights['w1'])\n",
    "    \n",
    "    def getBiases(self):\n",
    "        return self.sess.run(self.weights['b1'])"
   ]
  },
  {
   "cell_type": "markdown",
   "metadata": {},
   "source": [
    "So far, de-noising auto-encoder have been defined, including network design, weights initializer, and some member functions. Next, the auto-encoder will be tested on the MNIST data set."
   ]
  },
  {
   "cell_type": "code",
   "execution_count": 23,
   "metadata": {},
   "outputs": [
    {
     "name": "stdout",
     "output_type": "stream",
     "text": [
      "Extracting MNIST_data\\train-images-idx3-ubyte.gz\n",
      "Extracting MNIST_data\\train-labels-idx1-ubyte.gz\n",
      "Extracting MNIST_data\\t10k-images-idx3-ubyte.gz\n",
      "Extracting MNIST_data\\t10k-labels-idx1-ubyte.gz\n"
     ]
    }
   ],
   "source": [
    "mnist = input_data.read_data_sets('MNIST_data',one_hot = True)\n",
    "\n",
    "def standard_scale(X_train, X_test):\n",
    "    # Standard to make 0-mean, 1-variance\n",
    "    preprocessor = prep.StandardScaler().fit(X_train)\n",
    "    X_train = preprocessor.transform(X_train)\n",
    "    X_test = preprocessor.transform(X_test)\n",
    "    return X_train, X_test\n",
    "\n",
    "def get_random_block_from_data(data, batch_size):\n",
    "    start_index = np.random.randint(0, len(data) - batch_size)\n",
    "    return data[start_index:(start_index + batch_size)]\n",
    "\n",
    "X_train, X_test = standard_scale(mnist.train.images, mnist.test.images)\n",
    "\n",
    "n_samples = int(mnist.train.num_examples)\n",
    "training_epochs = 20\n",
    "batch_size = 128\n",
    "display_step = 1"
   ]
  },
  {
   "cell_type": "code",
   "execution_count": 24,
   "metadata": {},
   "outputs": [
    {
     "name": "stdout",
     "output_type": "stream",
     "text": [
      "Epoch: 0001 cost= 19880.573754545\n",
      "Epoch: 0002 cost= 13105.512050000\n",
      "Epoch: 0003 cost= 11897.797705682\n",
      "Epoch: 0004 cost= 10509.712414773\n",
      "Epoch: 0005 cost= 8963.064736364\n",
      "Epoch: 0006 cost= 10011.154247727\n",
      "Epoch: 0007 cost= 8993.481925568\n",
      "Epoch: 0008 cost= 9455.465035795\n",
      "Epoch: 0009 cost= 8521.460876705\n",
      "Epoch: 0010 cost= 8446.229340341\n",
      "Epoch: 0011 cost= 7817.854427841\n",
      "Epoch: 0012 cost= 8639.855586364\n",
      "Epoch: 0013 cost= 7929.964800568\n",
      "Epoch: 0014 cost= 8223.703711364\n",
      "Epoch: 0015 cost= 9248.268669318\n",
      "Epoch: 0016 cost= 8118.609974432\n",
      "Epoch: 0017 cost= 8307.674653977\n",
      "Epoch: 0018 cost= 8056.903177841\n",
      "Epoch: 0019 cost= 8096.820605682\n",
      "Epoch: 0020 cost= 7574.670132955\n"
     ]
    }
   ],
   "source": [
    "autoencoder = NoiseAutoencoder(n_inputs=784, # input nodes\n",
    "                               n_hidden=200, # hidden layer nodes\n",
    "                               transfer=tf.nn.softplus, # hidden layer activated function\n",
    "                               optimizer=tf.train.AdamOptimizer(learning_rate=0.001), # optimizer\n",
    "                               scale=0.01) # noise scale\n",
    "\n",
    "for epoch in range(training_epochs):\n",
    "    avg_cost = 0\n",
    "    total_batch = int(n_samples/batch_size)\n",
    "    for i in range(total_batch):\n",
    "        batch_xs = get_random_block_from_data(X_train, batch_size)\n",
    "        cost = autoencoder.partial_fit(batch_xs)\n",
    "        avg_cost += cost/n_samples * batch_size\n",
    "        \n",
    "    if epoch % display_step == 0:\n",
    "        print(\"Epoch:\", '%04d' % (epoch + 1),\"cost=\", \"{:.9f}\".format(avg_cost))"
   ]
  },
  {
   "cell_type": "markdown",
   "metadata": {},
   "source": [
    "The cost turns to be around 7000 after 20 epochs, even though keep going with more epochs. It will be lower by adjusting the batch_size, optimizer, hidder layer nodes, or hidden layer..."
   ]
  },
  {
   "cell_type": "code",
   "execution_count": 26,
   "metadata": {},
   "outputs": [
    {
     "name": "stdout",
     "output_type": "stream",
     "text": [
      "Total cost: 704016.5\n"
     ]
    }
   ],
   "source": [
    "print(\"Total cost: \"+ str(autoencoder.calc_total_cost(X_test)))"
   ]
  },
  {
   "cell_type": "markdown",
   "metadata": {},
   "source": [
    "After implementation, it is obviously that the auto-encoder is highly like a single hidden layer Neural Network, and what's the different is the input has been standardized and add an Gaussian noise."
   ]
  },
  {
   "cell_type": "markdown",
   "metadata": {},
   "source": [
    "The output is not a label but reconstructed data. Auto-encoder served as an unsupervised-learning method, and they are not going to clustering the data, but extract the significant or frequent higher-order features, moreover reconstruct the data based on these higher-order features. "
   ]
  },
  {
   "cell_type": "markdown",
   "metadata": {},
   "source": [
    "It is an important idea that: use the unsupervised learning to extract useful features, and initialize the weights into a fair distribution. Then apply the labelled-data for supervised leaning tasks. It idea is also known as \"Fine-tune\"."
   ]
  },
  {
   "cell_type": "code",
   "execution_count": null,
   "metadata": {},
   "outputs": [],
   "source": []
  }
 ],
 "metadata": {
  "kernelspec": {
   "display_name": "Python 3",
   "language": "python",
   "name": "python3"
  },
  "language_info": {
   "codemirror_mode": {
    "name": "ipython",
    "version": 3
   },
   "file_extension": ".py",
   "mimetype": "text/x-python",
   "name": "python",
   "nbconvert_exporter": "python",
   "pygments_lexer": "ipython3",
   "version": "3.6.5"
  }
 },
 "nbformat": 4,
 "nbformat_minor": 2
}
