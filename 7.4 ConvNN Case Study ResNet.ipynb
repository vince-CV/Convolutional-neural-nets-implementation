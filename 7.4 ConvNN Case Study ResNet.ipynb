{
 "cells": [
  {
   "cell_type": "markdown",
   "metadata": {},
   "source": [
    "### CNN Case Study: ResNet"
   ]
  },
  {
   "cell_type": "markdown",
   "metadata": {},
   "source": [
    "Highway Network, proposed by Schmidhuber who also invented LSTM in 1997. He aimed to solve the problems that the network training gets more difficult while the layers goes deeper.<br>\n",
    "Highway Network retain a part of original input $x$:<br>\n",
    "$$y=H(x,W_H)\\times{T(x,W_T)}+x\\times{C(x,W_C)}$$\n",
    "and Highway Network learns how to control the information flow by gating units, which means the original inputs should be retained as a certain ratio. The gating machanism was inspired from LSTM.<br>\n",
    "\n",
    "Highway Network allows the very deep network to be trained using optimizing methods, while the traditional networks training suffer from the layer depth."
   ]
  },
  {
   "cell_type": "markdown",
   "metadata": {},
   "source": [
    "ResNet is similair with the HighWay network, and the Residual Unit is shown as:<br>\n",
    "![title](/images/ResNet.png)"
   ]
  },
  {
   "cell_type": "markdown",
   "metadata": {},
   "source": [
    "Idea is to transfer the former layer into next layer directly. Assume the input is $x$, and output exceptation is $H(x)$. If we use the input $x$ as the output, and the learning target should be $F(x)=H(x)-x$. Therefore, ResNet changed the target to $H(x)-x$, which is the residual."
   ]
  },
  {
   "cell_type": "markdown",
   "metadata": {},
   "source": [
    "Conventional Conv Layer or Fully-connected can result in information lost to a certain degree, but the ResNet can solve this problem through directly transfer from input to output.<br>\n",
    "ResNet can also eliminate the training error grown with the increasing layers."
   ]
  },
  {
   "cell_type": "markdown",
   "metadata": {},
   "source": [
    "ResNet V2 was proposed with forward and backward information can be transfered directly, in other word, the Non-linear activation ($ReLU$) can be replaced by the Identity Mapping ($y=x$)."
   ]
  },
  {
   "cell_type": "markdown",
   "metadata": {},
   "source": [
    "TensorFlow to implement ResNet V2:"
   ]
  },
  {
   "cell_type": "code",
   "execution_count": 9,
   "metadata": {},
   "outputs": [],
   "source": [
    "import tensorflow as tf\n",
    "import collections\n",
    "slim = tf.contrib.slim\n",
    "\n",
    "class Block(collections.namedtuple('Block',['scope','unit_fn','args'])):\n",
    "    'A named tuple describing a ResNet block.'\n",
    "    \n",
    "def subsample(inputs, factor, scope=None):\n",
    "    \n",
    "    if factor == 1:\n",
    "        return inouts\n",
    "    else:\n",
    "        return slim.max_pool2d(inputs,[1,1],stride=factor,scope=scope)\n",
    "    \n",
    "def conv2d_same(inputs, num_outputs, kernel_size, stride, scope=None):\n",
    "    \n",
    "    if stride == 1:\n",
    "        return slim.conv2d(inputs, num_outputs, kernel_size, stride=1, padding='SAME', scope=scope)\n",
    "    else:\n",
    "        pad_total = kernel_size - 1\n",
    "        pad_beg = pad_total // 2\n",
    "        pad_end = pad_total - pad_beg\n",
    "        inputs = tf.pad(inputs, [[0,0], [pad_beg, pad_end], [pad_beg, pad_end],[0,0]])\n",
    "        return slim.conv2d(inputs, num_outputs, kernel_size, stride=stride, padding='VALID', scope=scope)\n",
    "    \n",
    "@slim.add_arg_scope\n",
    "def stack_blocks_dense(net, blocks, outputs_collections=None):\n",
    "    for block in blocks:  ## 两层循环 逐个block，逐个residual unit堆叠\n",
    "        with tf.variable_scope(block.scope, \"block\", [net]) as sc:\n",
    "            for i, unit in enumerate(block.args):\n",
    "                with tf.variable_scope(\"unit_%d\" % (i+1), values=[net]):\n",
    "                    unit_depth, unit_depth_bottleneck, unit_stride = unit\n",
    "                    net = block.unit_fn(net, depth=unit_depth, depth_bottleneck=unit_depth_bottleneck, stride=unit_stride)\n",
    "                net = slim.utils.collect_named_outputs(outputs_collections, sc.name, net)\n",
    "    \n",
    "    return net\n",
    "\n",
    "def resnet_arg_scope(is_training=True, \n",
    "                     weight_decay=0.0001, \n",
    "                     batch_norm_decay=0.997, \n",
    "                     batch_norm_epsilon=1e-5,\n",
    "                     batch_norm_scale=True):\n",
    "    \n",
    "    batch_norm_params = {'is_training':is_training, \n",
    "                         'decay':batch_norm_decay, \n",
    "                         'epsilon':batch_norm_epsilon,\n",
    "                         'scale':batch_norm_scale,\n",
    "                         'updates_collections':tf.GraphKeys.UPDATE_OPS}\n",
    "    \n",
    "    with slim.arg_scope([slim.conv2d],\n",
    "                        weights_regularizer=slim.l2_regularizer(weight_decay),\n",
    "                        weights_initializer=slim.variance_scaling_initializer(),\n",
    "                        activation_fn=tf.nn.relu,\n",
    "                        normalizer_fn=slim.batch_norm,\n",
    "                        normalizer_params=batch_norm_params):\n",
    "        with slim.arg_scope([slim.batch_norm], **batch_norm_params):\n",
    "            with slim.arg_scope([slim.max_pool2d], padding='SAME') as arg_sc:\n",
    "                return arg_sc\n",
    "            \n",
    "            \n",
    "@slim.add_arg_scope\n",
    "def bottleneck(inputs, depth, depth_bottleneck, stride, outputs_collections=None, scope=None):\n",
    "    with tf.variable_scope(scope,'bottleneck_v2',[inputs]) as sc:\n",
    "        depth_in = slim.utils.last_dimension(inputs.get_shape(), min_rank=4)\n",
    "        preact = slim.batch_norm(inputs, activation_fn=tf.nn.relu, scope='preact')\n",
    "        if depth == depth_in:\n",
    "            shortcut = subsample(inputs, stride, 'shortcut')\n",
    "        else:\n",
    "            shortcut = slim.conv2d(preact, depth, [1,1], stride=stride, normalizer_fn=None, activation_fn=None, scope='shortcut')\n",
    "            \n",
    "        residual = slim.conv2d(preact, depth_bottleneck, [1,1], stride=1, scope='conv1')\n",
    "        residual = conv2d_same(residual, depth_bottleneck, 3, stride, scope='conv2')\n",
    "        residual = slim.conv2d(residual, depth, [1,1], stride=1, normalizer_fn=None, activation_fn=None, scope='conv3')\n",
    "        \n",
    "        output = shortcut + residual\n",
    "        \n",
    "        return slim.utils.collect_named_outputs(outputs_collections, sc.name, output)\n",
    "        "
   ]
  },
  {
   "cell_type": "code",
   "execution_count": 10,
   "metadata": {},
   "outputs": [],
   "source": [
    "def resnet_v2(inputs, blocks, num_classes=None, global_pool=True, include_root_block=True, reuse=None, scope=None):\n",
    "    with tf.variable_scope(scope, 'resnet_v2', [inputs], reuse=reuse) as sc:\n",
    "        end_points_collection=sc.original_name_scope+'_end_points'\n",
    "        with slim.arg_scope([slim.conv2d, bottleneck, stack_blocks_dense], outputs_collections=end_points_collection):\n",
    "            net = inputs\n",
    "            if include_root_block:\n",
    "                with slim.arg_scope([slim.conv2d], activation_fn=None, normalizer_fn=None):\n",
    "                    net = conv2d_same(net, 64, 7, stride=2, scope='conv1')\n",
    "                net = slim.max_pool2d(net, [3,3], stride=2, scope='pool1')\n",
    "            net = stack_blocks_dense(net, blocks)\n",
    "            net = slim.batch_norm(net, activation_fn=tf.nn.relu, scope='postnorm')\n",
    "            \n",
    "            if global_pool:\n",
    "                net = tf.reduce_mean(net, [1,2], name='pool5', keep_dims=True)\n",
    "            if num_classes is not None:\n",
    "                net = slim.conv2d(net, num_classes, [1,1], activation_fn=None, normalizer_fn=None, scope='logits')\n",
    "                \n",
    "            end_points = slim.utils.convert_collection_to_dict(end_points_collection)\n",
    "            \n",
    "            if num_classes is not None:\n",
    "                end_points['predictions'] = slim.softmax(net, scope='predictions')\n",
    "                \n",
    "            return net, end_points"
   ]
  },
  {
   "cell_type": "code",
   "execution_count": 11,
   "metadata": {},
   "outputs": [],
   "source": [
    "def resnet_v2_50(inputs, num_classes=None, global_pool=True, reuse=None, scope='resnet_v2_50'):\n",
    "    blocks = [\n",
    "        Block('block1', bottleneck, [(256, 64, 1)]*2+[(256, 64, 2)]),\n",
    "        Block('block2', bottleneck, [(512, 128, 1)]*3+[(512, 128, 2)]),\n",
    "        Block('block3', bottleneck, [(1024, 256, 1)]*5+[(1024, 256, 2)]),\n",
    "        Block('block4', bottleneck, [(2048, 512, 1)]*3)]\n",
    "    return resnet_v2(inputs, blocks, num_classes, global_pool, include_root_block=True, reuse=reuse, scope=scope)\n",
    "\n",
    "def resnet_v2_101(inputs, num_classes=None, global_pool=True, reuse=None, scope='resnet_v2_101'):\n",
    "    blocks = [\n",
    "        Block('block1', bottleneck, [(256, 64, 1)]*2+[(256, 64, 2)]),\n",
    "        Block('block2', bottleneck, [(512, 128, 1)]*3+[(512, 128, 2)]),\n",
    "        Block('block3', bottleneck, [(1024, 256, 1)]*22+[(1024, 256, 2)]),\n",
    "        Block('block4', bottleneck, [(2048, 512, 1)]*3)]\n",
    "    return resnet_v2(inputs, blocks, num_classes, global_pool, include_root_block=True, reuse=reuse, scope=scope)\n",
    "\n",
    "def resnet_v2_152(inputs, num_classes=None, global_pool=True, reuse=None, scope='resnet_v2_152'):\n",
    "    blocks = [\n",
    "        Block('block1', bottleneck, [(256, 64, 1)]*2+[(256, 64, 2)]),\n",
    "        Block('block2', bottleneck, [(512, 128, 1)]*7+[(512, 128, 2)]),\n",
    "        Block('block3', bottleneck, [(1024, 256, 1)]*35+[(1024, 256, 2)]),\n",
    "        Block('block4', bottleneck, [(2048, 512, 1)]*3)]\n",
    "    return resnet_v2(inputs, blocks, num_classes, global_pool, include_root_block=True, reuse=reuse, scope=scope)\n",
    "\n",
    "def resnet_v2_200(inputs, num_classes=None, global_pool=True, reuse=None, scope='resnet_v2_200'):\n",
    "    blocks = [\n",
    "        Block('block1', bottleneck, [(256, 64, 1)]*2+[(256, 64, 2)]),\n",
    "        Block('block2', bottleneck, [(512, 128, 1)]*23+[(512, 128, 2)]),\n",
    "        Block('block3', bottleneck, [(1024, 256, 1)]*35+[(1024, 256, 2)]),\n",
    "        Block('block4', bottleneck, [(2048, 512, 1)]*3)]\n",
    "    return resnet_v2(inputs, blocks, num_classes, global_pool, include_root_block=True, reuse=reuse, scope=scope)"
   ]
  },
  {
   "cell_type": "code",
   "execution_count": null,
   "metadata": {},
   "outputs": [],
   "source": [
    "batch_size = 32\n",
    "height, width = 224, 224\n",
    "inputs = tf.random_uniform((batch_size, height, width, 3))\n",
    "with slim.arg_scope(resnet_arg_scope(is_training=False)):\n",
    "    net, end_points = resnet_v2_152(inputs, 1000)\n",
    "\n",
    "init = tf.global_variables_initializer()\n",
    "sess = tf.Session()\n",
    "sess.run(init)\n",
    "num_batches = 100\n",
    "time_tensorflow_run(sess, net, \"Forward\")"
   ]
  },
  {
   "cell_type": "code",
   "execution_count": null,
   "metadata": {},
   "outputs": [],
   "source": []
  }
 ],
 "metadata": {
  "kernelspec": {
   "display_name": "Python 3",
   "language": "python",
   "name": "python3"
  },
  "language_info": {
   "codemirror_mode": {
    "name": "ipython",
    "version": 3
   },
   "file_extension": ".py",
   "mimetype": "text/x-python",
   "name": "python",
   "nbconvert_exporter": "python",
   "pygments_lexer": "ipython3",
   "version": "3.6.5"
  }
 },
 "nbformat": 4,
 "nbformat_minor": 2
}
